{
  "nbformat": 4,
  "nbformat_minor": 0,
  "metadata": {
    "colab": {
      "name": "hw1_yourNameHere.ipynb",
      "provenance": [],
      "collapsed_sections": [],
      "include_colab_link": true
    },
    "kernelspec": {
      "name": "python3",
      "display_name": "Python 3"
    }
  },
  "cells": [
    {
      "cell_type": "markdown",
      "metadata": {
        "id": "view-in-github",
        "colab_type": "text"
      },
      "source": [
        "<a href=\"https://colab.research.google.com/github/mokleit/generative-discriminative-classifier/blob/master/hw1_mokleit.ipynb\" target=\"_parent\"><img src=\"https://colab.research.google.com/assets/colab-badge.svg\" alt=\"Open In Colab\"/></a>"
      ]
    },
    {
      "cell_type": "markdown",
      "metadata": {
        "id": "Z8p_rVKVWH2w",
        "colab_type": "text"
      },
      "source": [
        "# IFT6269 - Homework 1 - Maximum Likelihood Estimation\n",
        "\n",
        "**Due**: Tuesday, September 22, 2020"
      ]
    },
    {
      "cell_type": "markdown",
      "metadata": {
        "id": "erSG6CCYGYE6",
        "colab_type": "text"
      },
      "source": [
        "**bold text**#### Name:\n",
        "#### Student ID: \n",
        "#### Collaborators: \n",
        "\n"
      ]
    },
    {
      "cell_type": "markdown",
      "metadata": {
        "id": "SloWv9XFBdxL",
        "colab_type": "text"
      },
      "source": [
        "### Introduction\n",
        "\n",
        "In this question, we are going to numerically explore the MLE of the variance parameter of the Gaussian  \n",
        "\n",
        "### Tasks\n",
        "0.   Get your own copy of this file via \"File > Save a copy in Drive...\",\n",
        "1.   Fill your personal information and collaborators at the top of this assignment, and rename the notebook accordingly, e.g., `hw1_thomasBayes.ipynb`,\n",
        "2.   Read the instructions provided on each section and cell carefully,\n",
        "3.   Implement the missing features for the functions in section **Playground**,\n",
        "4.   Answer the questions in section **Gaussian Maximum Likelihood Estimation**.\n",
        "    \n",
        "**Important**: You are allowed to collaborate with other students in both the math and coding parts of this assignment. However, the answers provided here must reflect your individual work. For that reason, you are not allowed to share this notebook, except for your submission to the TA for grading. **Don't forget to pin and save the version of the notebook you want to be graded on!**"
      ]
    },
    {
      "cell_type": "code",
      "metadata": {
        "id": "pJlUxcYmBYCK",
        "colab_type": "code",
        "colab": {}
      },
      "source": [
        "import numpy as np\n",
        "import matplotlib.pyplot as plt\n",
        "plt.style.use('seaborn-white')\n",
        "params = {'legend.fontsize': 'x-large',\n",
        "         'axes.labelsize': 'x-large',\n",
        "         'axes.titlesize':'x-large',\n",
        "         'xtick.labelsize':'x-large',\n",
        "         'ytick.labelsize':'x-large'}\n",
        "plt.rcParams.update(params)"
      ],
      "execution_count": null,
      "outputs": []
    },
    {
      "cell_type": "markdown",
      "metadata": {
        "id": "GlnrQnxYunpy",
        "colab_type": "text"
      },
      "source": [
        "## Playground\n",
        "\n",
        "You are allowed to add as many cells and functions as you wish in this section, but not allowed to change the signature (name and inputs) of the provided functions! Please add all your new auxiliary functions here. "
      ]
    },
    {
      "cell_type": "code",
      "metadata": {
        "id": "EbMexfJ6uxSh",
        "colab_type": "code",
        "colab": {}
      },
      "source": [
        "def sample_gaussian_data(num_samples, num_trials):\n",
        "    \"\"\"\n",
        "    # TODO \n",
        "    Generate num_trials sets of samples of a *standard* 1-d Gaussian random variable.\n",
        "    Each set of samples contains num_sample samples\n",
        "\n",
        "        Inputs:\n",
        "            num_samples: [int] Number of samples to generate per trial\n",
        "            num_trials: [int] Number of trials to generate\n",
        "        \n",
        "        Returns:\n",
        "            samples: [num_samples, num_trials] Vector of generated samples\n",
        "    \"\"\"\n",
        "\n",
        "    # TODO\n",
        "    samples = np.zeros((num_samples, num_trials))\n",
        "\n",
        "    return samples\n",
        "\n",
        "def mu_sigma2_mle(samples):\n",
        "    \"\"\"\n",
        "    # TODO \n",
        "    Compute Gaussian MLE estimators for the mean and variance \n",
        "        Inputs:\n",
        "             samples: [num_samples, num_trials] Matrix of N(0, 1) iid samples. \n",
        "                      It contains num_trials sets, each of these sets containing\n",
        "                      num_samples samples.\n",
        "        \n",
        "        Returns:\n",
        "             mu_hat: [num_trials] Vector of MLE mean estimators for each trial\n",
        "             sigma2_hat: [num_trials] Vector of MLE variance estimators for each trial\n",
        "             \n",
        "    \"\"\"\n",
        "    # Useful dimensions\n",
        "    num_samples, num_trials = samples.shape\n",
        "\n",
        "    #TODO\n",
        "    mu_hat = np.zeros(num_trials)\n",
        "    sigma2_hat = np.zeros(num_trials)\n",
        "\n",
        "    return mu_hat, sigma2_hat\n",
        "\n",
        "def freq_mean_var(x):\n",
        "    \"\"\"\n",
        "    # TODO \n",
        "    Compute the frequentist mean and variance of a vector of n real numbers \n",
        "        Inputs:\n",
        "             x: [n] Vector of real numbers\n",
        "        \n",
        "        Returns:\n",
        "             (mean, var): [tuple] Frequentist mean and variance of x\n",
        "             \n",
        "    \"\"\"\n",
        "\n",
        "    #TODO\n",
        "    mean, var = 0, 0\n",
        "\n",
        "    return mean, var\n",
        "\n",
        "def empirical_frequentist_bias(empirical_mean, true_mean):\n",
        "    \"\"\"\n",
        "    # TODO \n",
        "    Estimate the frequentist bias of an estimator given its empirical and true means \n",
        "        Inputs:\n",
        "             true_mean: [float] True mean of the estimator\n",
        "             empirical_mean: [float] Empirical mean of the estimator\n",
        "             \n",
        "        Returns:\n",
        "             bias: [float] Frequentist bias\n",
        "            \n",
        "    \"\"\"\n",
        "\n",
        "    #TODO\n",
        "    bias = 0\n",
        "\n",
        "    return bias\n",
        "\n",
        "def plot_sigma_hat_histogram(samples, bins=200):\n",
        "    \"\"\"\n",
        "    Plots a histogram of a estimated variances \n",
        "        Inputs:\n",
        "            samples: [array] Estimated variances to be plotted\n",
        "\n",
        "    \"\"\"\n",
        "    # Plot histogram with custom bins for readability.\n",
        "    plt.hist(samples, bins=bins, alpha=0.8, label=r'$\\hat{\\sigma}$' +' histogram');\n",
        "    plt.ylabel('Counts')\n",
        "    plt.xlabel(r'$\\hat{\\sigma^2}$')\n",
        "    plt.legend();"
      ],
      "execution_count": null,
      "outputs": []
    },
    {
      "cell_type": "markdown",
      "metadata": {
        "id": "Eqmd8My_X6eQ",
        "colab_type": "text"
      },
      "source": [
        "## Gaussian Maximum Likelihood Estimation\n"
      ]
    },
    {
      "cell_type": "markdown",
      "metadata": {
        "id": "CK9tIVvzwcsd",
        "colab_type": "text"
      },
      "source": [
        "In this section **DO NOT** change the code in any of the cells, unless explicitly stated. Simply answer the questions in the corresponding text cells after having executed your implementation. If you have respected the signature of the functions above in terms of inputs and outputs, your code should run."
      ]
    },
    {
      "cell_type": "markdown",
      "metadata": {
        "id": "oMRtEaq8v9U8",
        "colab_type": "text"
      },
      "source": [
        "### Sample generation\n",
        "\n",
        "Use the functions defined above to draw $n=5$ samples from the standard Gaussian distribution, $\\mathcal{N}(0,1)$."
      ]
    },
    {
      "cell_type": "code",
      "metadata": {
        "id": "CV8p-HkJv19I",
        "colab_type": "code",
        "colab": {}
      },
      "source": [
        "NUM_SAMPLES = 5\n",
        "\n",
        "samples = sample_gaussian_data(num_samples=NUM_SAMPLES, num_trials=1)\n",
        "\n",
        "print('Generated Gaussian samples')\n",
        "print(samples)"
      ],
      "execution_count": null,
      "outputs": []
    },
    {
      "cell_type": "markdown",
      "metadata": {
        "id": "CD5_zQ1ywoCR",
        "colab_type": "text"
      },
      "source": [
        "### MLE computation\n",
        "Compute the ML estimate $\\hat{\\mu}$ for the mean and $\\hat{\\sigma}^2$ for the variance of the Gaussian, as given in Question 3(d). "
      ]
    },
    {
      "cell_type": "code",
      "metadata": {
        "id": "2Yhy5FWMt5gE",
        "colab_type": "code",
        "colab": {}
      },
      "source": [
        "mu_hat, sigma2_hat = mu_sigma2_mle(samples)\n",
        "\n",
        "print('MLE mean - variance')\n",
        "print(mu_hat, sigma2_hat)"
      ],
      "execution_count": null,
      "outputs": []
    },
    {
      "cell_type": "markdown",
      "metadata": {
        "id": "OtW53ntTzotm",
        "colab_type": "text"
      },
      "source": [
        "### MLE computation\n",
        "Repeat the previous steps 10,000 times.  Plot a histogram of the 10,000 estimates of the Gaussian  variance  parameter  to  show  its  empirical  distribution."
      ]
    },
    {
      "cell_type": "code",
      "metadata": {
        "id": "vPMfMLQgzyEt",
        "colab_type": "code",
        "colab": {}
      },
      "source": [
        "NUM_TRIALS = int(1e4)\n",
        "samples = sample_gaussian_data(num_samples=NUM_SAMPLES, num_trials=NUM_TRIALS)\n",
        "_, sigma2_hat_vec = mu_sigma2_mle(samples)"
      ],
      "execution_count": null,
      "outputs": []
    },
    {
      "cell_type": "code",
      "metadata": {
        "id": "hoWL_bRJ0U7K",
        "colab_type": "code",
        "colab": {}
      },
      "source": [
        "plot_sigma_hat_histogram(sigma2_hat_vec)"
      ],
      "execution_count": null,
      "outputs": []
    },
    {
      "cell_type": "markdown",
      "metadata": {
        "id": "Wdt6wOYcz0WY",
        "colab_type": "text"
      },
      "source": [
        "**Question:** Do you recognize the shape of this histogram? What is it? \n",
        "\n",
        "**Answer:** \n",
        "\n"
      ]
    },
    {
      "cell_type": "markdown",
      "metadata": {
        "id": "sGN0em1z0Vif",
        "colab_type": "text"
      },
      "source": [
        "### Bias and variance of the *estimator*\n",
        "Use *the same* 10,000 repeated trials to numerically estimate the (frequentist) bias and variance of the ML estimate $\\hat{\\sigma}^2$ of the Gaussian variance parameter.\n",
        "\n",
        "Compare the results with the theoretical (frequentist) bias and variance that you can compute from the formula you derived in Question 3(d). \n",
        "\n",
        "*Hint: if your numerical estimates are very far from the theoretical formula, you made a mistake somewhere!*"
      ]
    },
    {
      "cell_type": "code",
      "metadata": {
        "id": "yi_qhsg80ATu",
        "colab_type": "code",
        "colab": {}
      },
      "source": [
        "sigma2_hat_mean, sigma2_hat_var = freq_mean_var(sigma2_hat_vec)\n",
        "\n",
        "TRUE_SIGMA2 = 1.\n",
        "\n",
        "# In the next lines, fill in the theoretical bias and variance of $\\hat{\\sigma}^2$\n",
        "THEO_BIAS = None\n",
        "THEO_VAR = None\n",
        "\n",
        "emp_bias = empirical_frequentist_bias(empirical_mean=sigma2_hat_mean,\n",
        "                                      true_mean=TRUE_SIGMA2)\n",
        "\n",
        "print('Theoretical Bias: ', THEO_BIAS, ' Freq. Estimated Bias: ', emp_bias)\n",
        "print('Theoretical Variance: ', THEO_VAR, ' Freq. Estimated Variance: ', sigma2_hat_var)"
      ],
      "execution_count": null,
      "outputs": []
    },
    {
      "cell_type": "markdown",
      "metadata": {
        "id": "hEIHeZCN5Ogf",
        "colab_type": "text"
      },
      "source": [
        "**Question:** What conclusions can you draw from the result of this comparison?\n",
        "\n",
        "**Answer:** "
      ]
    },
    {
      "cell_type": "code",
      "metadata": {
        "id": "SP327gUM5YQM",
        "colab_type": "code",
        "colab": {}
      },
      "source": [
        ""
      ],
      "execution_count": null,
      "outputs": []
    }
  ]
}